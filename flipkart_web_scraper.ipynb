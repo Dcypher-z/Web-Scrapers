{
 "cells": [
  {
   "cell_type": "code",
   "execution_count": 1,
   "metadata": {},
   "outputs": [],
   "source": [
    "from selenium import webdriver\n",
    "import chromedriver_binary\n",
    "import csv\n",
    "from bs4 import BeautifulSoup"
   ]
  },
  {
   "cell_type": "code",
   "execution_count": 27,
   "metadata": {},
   "outputs": [],
   "source": [
    "def my_url(search):\n",
    "    temp = \"https://www.flipkart.com/search?q={}&otracker=search&otracker1=search&marketplace=FLIPKART&as-show=on&as=off\"\n",
    "    search = search.replace(' ','%20')\n",
    "    url = temp.format(search)\n",
    "    url += \"&page={}\"\n",
    "    return url"
   ]
  },
  {
   "cell_type": "code",
   "execution_count": 102,
   "metadata": {},
   "outputs": [],
   "source": [
    "def main(search):\n",
    "    count = 0\n",
    "    driver = webdriver.Chrome()\n",
    "    url = my_url(search)\n",
    "\n",
    "    records =[]\n",
    "\n",
    "    for i in range(1, 2):\n",
    "        driver.get(url.format(i))\n",
    "        soup = BeautifulSoup(driver.page_source, 'html.parser')\n",
    "        soup_results = soup.find_all('div',class_= '_4ddWXP')\n",
    "        \n",
    "        for item in soup_results:\n",
    "            record = []\n",
    "            t_tag = item.find('a', class_='s1Q9rs')\n",
    "            record.append(t_tag.text)\n",
    "            try:\n",
    "                r_tag = item.find('div', class_='_3LWZlK')\n",
    "                record.append(r_tag.text)\n",
    "            except AttributeError:\n",
    "                record.append(0)\n",
    "            \n",
    "            try:\n",
    "                p_tag = item.find('div', class_='_30jeq3')\n",
    "                record.append(p_tag.text)\n",
    "            except AttributeError:\n",
    "                record.append(0)\n",
    "            \n",
    "            records.append(record)\n",
    "\n",
    "        with open('flipkart_results.csv','w',newline='', encoding='utf-8') as f:\n",
    "            writer = csv.writer(f)\n",
    "            writer.writerow(['title', 'Rating', 'Price'])\n",
    "            writer.writerows(records)"
   ]
  },
  {
   "cell_type": "code",
   "execution_count": 103,
   "metadata": {},
   "outputs": [],
   "source": [
    "main(\"tv set\")"
   ]
  }
 ],
 "metadata": {
  "kernelspec": {
   "display_name": "Python 3.9.7 ('base')",
   "language": "python",
   "name": "python3"
  },
  "language_info": {
   "codemirror_mode": {
    "name": "ipython",
    "version": 3
   },
   "file_extension": ".py",
   "mimetype": "text/x-python",
   "name": "python",
   "nbconvert_exporter": "python",
   "pygments_lexer": "ipython3",
   "version": "3.9.7"
  },
  "orig_nbformat": 4,
  "vscode": {
   "interpreter": {
    "hash": "b302cdd1e032ee910f5c889c3360c28564c92ad4f326fc3102e39fbe47faee66"
   }
  }
 },
 "nbformat": 4,
 "nbformat_minor": 2
}
